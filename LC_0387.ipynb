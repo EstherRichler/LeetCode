{
 "cells": [
  {
   "cell_type": "markdown",
   "metadata": {},
   "source": [
    "387. First Unique Character in a String\n",
    "\n",
    "Given a string, find the first non-repeating character in it and return its index. If it doesn't exist, return -1.\n",
    "\n",
    "Examples:\n",
    "\n",
    "s = \"leetcode\"\n",
    "\n",
    "return 0.\n",
    "\n",
    "s = \"loveleetcode\"\n",
    "\n",
    "return 2.\n",
    " \n",
    "\n",
    "Note: You may assume the string contains only lowercase English letters."
   ]
  },
  {
   "cell_type": "code",
   "execution_count": null,
   "metadata": {},
   "outputs": [],
   "source": [
    "# my solution\n",
    "\n",
    "class Solution(object):\n",
    "    def firstUniqChar(self, s):\n",
    "        \"\"\"\n",
    "        :type s: str\n",
    "        :rtype: int\n",
    "        \"\"\"\n",
    "        \n",
    "        hashtable = {}\n",
    "        \n",
    "        for i,letter in enumerate(s):\n",
    "            \n",
    "            if letter in hashtable:\n",
    "                hashtable[letter] += 1\n",
    "            else:\n",
    "                hashtable[letter] = 1\n",
    "                \n",
    "        for i,letter in enumerate(s):\n",
    "            \n",
    "            if hashtable[letter] == 1:\n",
    "                return i\n",
    "            \n",
    "        return -1"
   ]
  },
  {
   "cell_type": "markdown",
   "metadata": {},
   "source": [
    "Runtime: 132 ms, faster than 73.45% of Python online submissions for First Unique Character in a String.\n",
    "\n",
    "Memory Usage: 13 MB, less than 87.50% of Python online submissions for First Unique Character in a String."
   ]
  },
  {
   "cell_type": "code",
   "execution_count": null,
   "metadata": {},
   "outputs": [],
   "source": []
  }
 ],
 "metadata": {
  "kernelspec": {
   "display_name": "Python 3",
   "language": "python",
   "name": "python3"
  },
  "language_info": {
   "codemirror_mode": {
    "name": "ipython",
    "version": 3
   },
   "file_extension": ".py",
   "mimetype": "text/x-python",
   "name": "python",
   "nbconvert_exporter": "python",
   "pygments_lexer": "ipython3",
   "version": "3.7.4"
  }
 },
 "nbformat": 4,
 "nbformat_minor": 2
}
