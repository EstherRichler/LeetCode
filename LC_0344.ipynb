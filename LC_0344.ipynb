{
 "cells": [
  {
   "cell_type": "markdown",
   "metadata": {},
   "source": [
    "344. Reverse String\n",
    "\n",
    "Write a function that reverses a string. The input string is given as an array of characters char[].\n",
    "\n",
    "Do not allocate extra space for another array, you must do this by modifying the input array in-place with O(1) extra memory.\n",
    "\n",
    "You may assume all the characters consist of printable ascii characters.\n",
    "\n",
    " \n",
    "\n",
    "Example 1:\n",
    "\n",
    "Input: [\"h\",\"e\",\"l\",\"l\",\"o\"]\n",
    "Output: [\"o\",\"l\",\"l\",\"e\",\"h\"]\n",
    "\n",
    "Example 2:\n",
    "\n",
    "Input: [\"H\",\"a\",\"n\",\"n\",\"a\",\"h\"]\n",
    "Output: [\"h\",\"a\",\"n\",\"n\",\"a\",\"H\"]"
   ]
  },
  {
   "cell_type": "code",
   "execution_count": null,
   "metadata": {},
   "outputs": [],
   "source": [
    "# my solution\n",
    "\n",
    "class Solution(object):\n",
    "    def reverseString(self, s):\n",
    "        \"\"\"\n",
    "        :type s: List[str]\n",
    "        :rtype: None Do not return anything, modify s in-place instead.\n",
    "        \"\"\"\n",
    "        \n",
    "        if len(s) % 2 == 0:\n",
    "            \n",
    "            halfway = len(s) / 2\n",
    "            \n",
    "        else:\n",
    "            \n",
    "            halfway = (len(s) - 1) / 2\n",
    "        \n",
    "        \n",
    "        for start_idx in range(0,halfway):\n",
    "            \n",
    "            end_idx = -(start_idx + 1)\n",
    "            \n",
    "            tmp = s[end_idx]\n",
    "            \n",
    "            s[end_idx] = s[start_idx]\n",
    "            \n",
    "            s[start_idx] = tmp"
   ]
  },
  {
   "cell_type": "markdown",
   "metadata": {},
   "source": [
    "Runtime: 176 ms, faster than 69.13% of Python online submissions for Reverse String.\n",
    "\n",
    "Memory Usage: 19.9 MB, less than 16.92% of Python online submissions for Reverse String."
   ]
  },
  {
   "cell_type": "code",
   "execution_count": null,
   "metadata": {},
   "outputs": [],
   "source": [
    "# solution from user laurelton - beats 85% time and 97% space\n",
    "\n",
    "class Solution:\n",
    "    def reverseString(self, s: List[str]) -> None:\n",
    "        \"\"\"\n",
    "        Do not return anything, modify s in-place instead.\n",
    "        \"\"\"\n",
    "        for idx in range(len(s) // 2):\n",
    "            s[idx], s[~idx] = s[~idx], s[idx]"
   ]
  },
  {
   "cell_type": "markdown",
   "metadata": {},
   "source": [
    "The above solution introduces me to some new operators:\n",
    "\n",
    "1. Double slash - this is equivalent to doing the 'floor' division (rounds down to nearest whole number) that I accomplished with the if/else statements.\n",
    "\n",
    "2. Tilde - this returns the complement of a bit operand - so 0 will be -1, 1 will be -2 etc.\n",
    "\n",
    "I also didn't know that it is possible to update multiple values in a list all at once.\n",
    "\n",
    "This is a really nice solution."
   ]
  },
  {
   "cell_type": "code",
   "execution_count": null,
   "metadata": {},
   "outputs": [],
   "source": []
  },
  {
   "cell_type": "code",
   "execution_count": null,
   "metadata": {},
   "outputs": [],
   "source": []
  }
 ],
 "metadata": {
  "kernelspec": {
   "display_name": "Python 3",
   "language": "python",
   "name": "python3"
  },
  "language_info": {
   "codemirror_mode": {
    "name": "ipython",
    "version": 3
   },
   "file_extension": ".py",
   "mimetype": "text/x-python",
   "name": "python",
   "nbconvert_exporter": "python",
   "pygments_lexer": "ipython3",
   "version": "3.7.4"
  }
 },
 "nbformat": 4,
 "nbformat_minor": 2
}
