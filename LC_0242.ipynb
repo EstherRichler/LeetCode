{
 "cells": [
  {
   "cell_type": "markdown",
   "metadata": {},
   "source": [
    "242. Valid Anagram\n",
    "\n",
    "Given two strings s and t , write a function to determine if t is an anagram of s.\n",
    "\n",
    "Example 1:\n",
    "\n",
    "Input: s = \"anagram\", t = \"nagaram\"\n",
    "Output: true\n",
    "\n",
    "Example 2:\n",
    "\n",
    "Input: s = \"rat\", t = \"car\"\n",
    "Output: false\n",
    "Note:\n",
    "You may assume the string contains only lowercase alphabets.\n",
    "\n",
    "Follow up:\n",
    "What if the inputs contain unicode characters? How would you adapt your solution to such case?"
   ]
  },
  {
   "cell_type": "code",
   "execution_count": null,
   "metadata": {},
   "outputs": [],
   "source": [
    "# my solution\n",
    "\n",
    "class Solution(object):\n",
    "    def isAnagram(self, s, t):\n",
    "        \"\"\"\n",
    "        :type s: str\n",
    "        :type t: str\n",
    "        :rtype: bool\n",
    "        \"\"\"\n",
    "        \n",
    "        s = ''.join(sorted(s))\n",
    "        t = ''.join(sorted(t))\n",
    "        \n",
    "        if s == t:\n",
    "            return True\n",
    "        \n",
    "        return False"
   ]
  },
  {
   "cell_type": "markdown",
   "metadata": {},
   "source": [
    "Runtime: 84 ms, faster than 18.18% of Python online submissions for Valid Anagram.\n",
    "\n",
    "Memory Usage: 14.3 MB, less than 23.58% of Python online submissions for Valid Anagram.\n",
    "\n",
    "*Works, but slow and inefficient, try again Esther*"
   ]
  },
  {
   "cell_type": "code",
   "execution_count": null,
   "metadata": {},
   "outputs": [],
   "source": [
    "# my solution - second try\n",
    "\n",
    "class Solution(object):\n",
    "    def isAnagram(self, s, t):\n",
    "        \"\"\"\n",
    "        :type s: str\n",
    "        :type t: str\n",
    "        :rtype: bool\n",
    "        \"\"\"\n",
    "        \n",
    "        s = sorted(s)\n",
    "        t = sorted(t)\n",
    "        \n",
    "        if len(s) != len(t):\n",
    "            return False\n",
    "        \n",
    "        for i,letter in enumerate(s):\n",
    "            if letter != t[i]:\n",
    "                return False\n",
    "            \n",
    "        return True"
   ]
  },
  {
   "cell_type": "markdown",
   "metadata": {},
   "source": [
    "Runtime: 64 ms, faster than 35.38% of Python online submissions for Valid Anagram.\n",
    "\n",
    "Memory Usage: 14 MB, less than 35.37% of Python online submissions for Valid Anagram.\n",
    "\n",
    "*Marginally better, read solution and code it.*"
   ]
  },
  {
   "cell_type": "code",
   "execution_count": null,
   "metadata": {},
   "outputs": [],
   "source": [
    "# my solution - third try\n",
    "\n",
    "class Solution(object):\n",
    "    def isAnagram(self, s, t):\n",
    "        \"\"\"\n",
    "        :type s: str\n",
    "        :type t: str\n",
    "        :rtype: bool\n",
    "        \"\"\"\n",
    "        \n",
    "        if len(s) != len(t):\n",
    "            return False\n",
    "        \n",
    "        hashtable = {}\n",
    "        \n",
    "        for letter in s:\n",
    "            \n",
    "            if letter not in hashtable:\n",
    "                hashtable[letter] = 1\n",
    "            else:\n",
    "                hashtable[letter] += 1\n",
    "             \n",
    "        \n",
    "        for letter in t:\n",
    "            \n",
    "            if letter not in hashtable:\n",
    "                return False\n",
    "            \n",
    "            hashtable[letter] -= 1\n",
    "            \n",
    "            if hashtable[letter] < 0:\n",
    "                return False\n",
    "            \n",
    "        return True"
   ]
  },
  {
   "cell_type": "markdown",
   "metadata": {},
   "source": [
    "Runtime: 36 ms, faster than 90.91% of Python online submissions for Valid Anagram.\n",
    "\n",
    "Memory Usage: 13.5 MB, less than 74.24% of Python online submissions for Valid Anagram.\n",
    "\n",
    "*Much better.*"
   ]
  },
  {
   "cell_type": "code",
   "execution_count": null,
   "metadata": {},
   "outputs": [],
   "source": [
    "# nice solution posted to discussion by user swapnil1999\n",
    "# O(n) time and O(1) space\n",
    "\n",
    "class Solution:\n",
    "    def isAnagram(self, s: str, t: str) -> bool:  \n",
    "        s_count = [0] * 26\n",
    "        t_count = [0] * 26\n",
    "        for elem in s:\n",
    "            s_count[ord(elem)-97] += 1\n",
    "        for elem in t:\n",
    "            t_count[ord(elem)-97] += 1\n",
    "        return s_count == t_count"
   ]
  }
 ],
 "metadata": {
  "kernelspec": {
   "display_name": "Python 3",
   "language": "python",
   "name": "python3"
  },
  "language_info": {
   "codemirror_mode": {
    "name": "ipython",
    "version": 3
   },
   "file_extension": ".py",
   "mimetype": "text/x-python",
   "name": "python",
   "nbconvert_exporter": "python",
   "pygments_lexer": "ipython3",
   "version": "3.7.4"
  }
 },
 "nbformat": 4,
 "nbformat_minor": 2
}
