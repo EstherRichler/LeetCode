{
 "cells": [
  {
   "cell_type": "markdown",
   "metadata": {},
   "source": [
    "125. Valid Palindrome\n",
    "\n",
    "Given a string, determine if it is a palindrome, considering only alphanumeric characters and ignoring cases.\n",
    "\n",
    "Note: For the purpose of this problem, we define empty string as valid palindrome.\n",
    "\n",
    "Example 1:\n",
    "\n",
    "Input: \"A man, a plan, a canal: Panama\"\n",
    "Output: true\n",
    "\n",
    "Example 2:\n",
    "\n",
    "Input: \"race a car\"\n",
    "Output: false\n",
    " \n",
    "\n",
    "Constraints:\n",
    "\n",
    "s consists only of printable ASCII characters."
   ]
  },
  {
   "cell_type": "code",
   "execution_count": null,
   "metadata": {},
   "outputs": [],
   "source": [
    "# my solution\n",
    "\n",
    "class Solution(object):\n",
    "    def isPalindrome(self, s):\n",
    "        \"\"\"\n",
    "        :type s: str\n",
    "        :rtype: bool\n",
    "        \"\"\"\n",
    "        \n",
    "        slist = [ch.lower() for ch in s if ch.isalnum()]\n",
    "        \n",
    "        for i in range(len(slist) // 2):\n",
    "            \n",
    "            if slist[i] != slist[-(i+1)]:\n",
    "                return False\n",
    "        \n",
    "        return True"
   ]
  },
  {
   "cell_type": "markdown",
   "metadata": {},
   "source": [
    "Runtime: 56 ms, faster than 45.66% of Python online submissions for Valid Palindrome.\n",
    "\n",
    "Memory Usage: 15.4 MB, less than 9.67% of Python online submissions for Valid Palindrome."
   ]
  },
  {
   "cell_type": "code",
   "execution_count": null,
   "metadata": {},
   "outputs": [],
   "source": [
    "# another try\n",
    "\n",
    "class Solution(object):\n",
    "    def isPalindrome(self, s):\n",
    "        \"\"\"\n",
    "        :type s: str\n",
    "        :rtype: bool\n",
    "        \"\"\"\n",
    "        \n",
    "        \n",
    "        slist = [ch.lower() for ch in s if ch.isalnum()]\n",
    "        \n",
    "        if len(slist) == 1:\n",
    "            return True\n",
    "        \n",
    "        if ''.join(slist[:(len(slist) // 2)]) != ''.join(reversed(slist[-(len(slist) // 2):])):\n",
    "            return False\n",
    "        \n",
    "        return True"
   ]
  },
  {
   "cell_type": "markdown",
   "metadata": {},
   "source": [
    "Runtime: 56 ms, faster than 45.66% of Python online submissions for Valid Palindrome.\n",
    "\n",
    "Memory Usage: 15.1 MB, less than 15.48% of Python online submissions for Valid Palindrome.\n",
    "\n",
    "Not much better."
   ]
  },
  {
   "cell_type": "code",
   "execution_count": null,
   "metadata": {},
   "outputs": [],
   "source": [
    "# here is something similar from forum user ddhnnng which is 97% faster\n",
    "\n",
    "class Solution:\n",
    "    def isPalindrome(self, s: str) -> bool:\n",
    "        letters = [i.lower() for i in s if i.isalnum()]   # derive a list of all alphanumeric letters, in lower-case\n",
    "        m = max(len(letters) // 2, 1)         # find the median point, max is to take care of an edge-case when the length of the word is 1\n",
    "        return letters[:m] == letters[-m:][::-1]   # compare the first half to the second half\n",
    "    "
   ]
  }
 ],
 "metadata": {
  "kernelspec": {
   "display_name": "Python 3",
   "language": "python",
   "name": "python3"
  },
  "language_info": {
   "codemirror_mode": {
    "name": "ipython",
    "version": 3
   },
   "file_extension": ".py",
   "mimetype": "text/x-python",
   "name": "python",
   "nbconvert_exporter": "python",
   "pygments_lexer": "ipython3",
   "version": "3.7.4"
  }
 },
 "nbformat": 4,
 "nbformat_minor": 2
}
