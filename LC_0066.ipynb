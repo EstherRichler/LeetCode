{
 "cells": [
  {
   "cell_type": "markdown",
   "metadata": {},
   "source": [
    "### 66. Plus One\n",
    "\n",
    "Given a non-empty array of digits representing a non-negative integer, increment one to the integer.\n",
    "\n",
    "The digits are stored such that the most significant digit is at the head of the list, and each element in the array contains a single digit.\n",
    "\n",
    "You may assume the integer does not contain any leading zero, except the number 0 itself.\n",
    "\n",
    "Example 1:\n",
    "\n",
    "Input: [1,2,3]\n",
    "Output: [1,2,4]\n",
    "Explanation: The array represents the integer 123.\n",
    "Example 2:\n",
    "\n",
    "Input: [4,3,2,1]\n",
    "Output: [4,3,2,2]\n",
    "Explanation: The array represents the integer 4321."
   ]
  },
  {
   "cell_type": "code",
   "execution_count": null,
   "metadata": {},
   "outputs": [],
   "source": [
    "# my solution\n",
    "\n",
    "class Solution(object):\n",
    "    def plusOne(self, digits):\n",
    "        \"\"\"\n",
    "        :type digits: List[int]\n",
    "        :rtype: List[int]\n",
    "        \"\"\"\n",
    "        \n",
    "        int_str = ''\n",
    "        \n",
    "        for digit in digits:\n",
    "            int_str += str(digit)\n",
    "            \n",
    "        int_int = int(int_str)\n",
    "        int_int += 1\n",
    "        \n",
    "        int_str = str(int_int)\n",
    "        \n",
    "        int_list = [int(letter) for letter in int_str]\n",
    "        \n",
    "        return int_list"
   ]
  },
  {
   "cell_type": "markdown",
   "metadata": {},
   "source": [
    "Runtime: 36 ms, faster than 16.21% of Python online submissions for Plus One.\n",
    "\n",
    "Memory Usage: 12.7 MB, less than 42.12% of Python online submissions for Plus One."
   ]
  },
  {
   "cell_type": "code",
   "execution_count": null,
   "metadata": {},
   "outputs": [],
   "source": [
    "# beautiful solution I saw on the forum\n",
    "\n",
    "class Solution(object):\n",
    "    def plusOne(self, digits):\n",
    "        \n",
    "        adder = False\n",
    "        for i in reversed(range(len(digits))):\n",
    "            current_value = digits[i]\n",
    "            if current_value < 9:\n",
    "                digits[i] = current_value + 1\n",
    "                adder = False\n",
    "                return digits\n",
    "            else:\n",
    "                digits[i] = 0\n",
    "                adder = True\n",
    "                \n",
    "        if adder:\n",
    "            digits.insert(0, 1)\n",
    "        \n",
    "        return digits\n",
    "    \n",
    "# this solution beats 95% by runtime\n",
    "# two new functions for me: reversed, insert"
   ]
  },
  {
   "cell_type": "code",
   "execution_count": null,
   "metadata": {},
   "outputs": [],
   "source": []
  }
 ],
 "metadata": {
  "kernelspec": {
   "display_name": "Python 3",
   "language": "python",
   "name": "python3"
  },
  "language_info": {
   "codemirror_mode": {
    "name": "ipython",
    "version": 3
   },
   "file_extension": ".py",
   "mimetype": "text/x-python",
   "name": "python",
   "nbconvert_exporter": "python",
   "pygments_lexer": "ipython3",
   "version": "3.7.4"
  }
 },
 "nbformat": 4,
 "nbformat_minor": 2
}
