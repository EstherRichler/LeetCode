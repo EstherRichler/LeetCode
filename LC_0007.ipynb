{
 "cells": [
  {
   "cell_type": "markdown",
   "metadata": {},
   "source": [
    "7. Reverse Integer\n",
    "\n",
    "Given a 32-bit signed integer, reverse digits of an integer.\n",
    "\n",
    "Example 1:\n",
    "\n",
    "Input: 123\n",
    "Output: 321\n",
    "\n",
    "Example 2:\n",
    "\n",
    "Input: -123\n",
    "Output: -321\n",
    "\n",
    "Example 3:\n",
    "\n",
    "Input: 120\n",
    "Output: 21\n",
    "\n",
    "Note:\n",
    "Assume we are dealing with an environment which could only store integers within the 32-bit signed integer range: [−231,  231 − 1]. For the purpose of this problem, assume that your function returns 0 when the reversed integer overflows."
   ]
  },
  {
   "cell_type": "code",
   "execution_count": null,
   "metadata": {},
   "outputs": [],
   "source": [
    "# my solution\n",
    "\n",
    "class Solution(object):\n",
    "    def reverse(self, x):\n",
    "        \"\"\"\n",
    "        :type x: int\n",
    "        :rtype: int\n",
    "        \"\"\"\n",
    "        \n",
    "        # deal with single digit inputs\n",
    "        if x in range(-9,10):\n",
    "            return x\n",
    "        \n",
    "        # get sign of integer\n",
    "        if x > 0:\n",
    "            bitsign = 1\n",
    "        else:\n",
    "            bitsign = -1\n",
    "        \n",
    "        # make it into a reversed list of strings\n",
    "        tmp = list(str(abs(x)))\n",
    "        tmp.reverse()\n",
    "        \n",
    "        # convert list of strings back into one string\n",
    "        y = ''\n",
    "        for letter in tmp:\n",
    "            y += letter\n",
    "        \n",
    "        # covert string into signed integer\n",
    "        y = int(y) * bitsign\n",
    "        \n",
    "        # return result if within 32 bits\n",
    "        if y >= -2**31 and y < 2**31:\n",
    "            return y\n",
    "        else:\n",
    "            return 0"
   ]
  },
  {
   "cell_type": "markdown",
   "metadata": {},
   "source": [
    "Runtime: 16 ms, faster than 93.36% of Python online submissions for Reverse Integer.\n",
    "\n",
    "Memory Usage: 12.8 MB, less than 32.89% of Python online submissions for Reverse Integer.\n",
    "\n",
    "*Note: this is a bit of an unsophisticated way of solving this problem. The solution on LC involves using pop, push, and modulo. Rewritten below.*"
   ]
  },
  {
   "cell_type": "code",
   "execution_count": null,
   "metadata": {},
   "outputs": [],
   "source": [
    "# my updated solution 7/27/2020\n",
    "\n",
    "class Solution(object):\n",
    "    def reverse(self, x):\n",
    "        \"\"\"\n",
    "        :type x: int\n",
    "        :rtype: int\n",
    "        \"\"\"\n",
    "        \n",
    "        # get sign of integer\n",
    "        if x > 0:\n",
    "            bitsign = 1\n",
    "        else:\n",
    "            bitsign = -1\n",
    "            \n",
    "        x = abs(x)\n",
    "        \n",
    "        rev = 0\n",
    "        \n",
    "        while x > 0:\n",
    "            \n",
    "            pop = x % 10 # get value of last integer\n",
    "            \n",
    "            x //= 10 # remove last integer from x (pop)\n",
    "            \n",
    "            rev = rev * 10 + pop # add last integer to rev (push)\n",
    "        \n",
    "        # add sign back\n",
    "        y = rev * bitsign\n",
    "        \n",
    "        # return result if within 32 bits\n",
    "        if y >= -2**31 and y < 2**31:\n",
    "            return y\n",
    "        else:\n",
    "            return 0"
   ]
  },
  {
   "cell_type": "markdown",
   "metadata": {},
   "source": [
    "Runtime: 16 ms, faster than 93.43% of Python online submissions for Reverse Integer.\n",
    "\n",
    "Memory Usage: 12.6 MB, less than 91.08% of Python online submissions for Reverse Integer.\n",
    "\n",
    "*This solution is not any faster than my original solution above, but it uses less memory (and is more elegant). It does not use the math-based suggestion for how to avoid overflow though, I haven't wrapped my head around that yet.*"
   ]
  },
  {
   "cell_type": "code",
   "execution_count": null,
   "metadata": {},
   "outputs": [],
   "source": []
  }
 ],
 "metadata": {
  "kernelspec": {
   "display_name": "Python 3",
   "language": "python",
   "name": "python3"
  },
  "language_info": {
   "codemirror_mode": {
    "name": "ipython",
    "version": 3
   },
   "file_extension": ".py",
   "mimetype": "text/x-python",
   "name": "python",
   "nbconvert_exporter": "python",
   "pygments_lexer": "ipython3",
   "version": "3.7.4"
  }
 },
 "nbformat": 4,
 "nbformat_minor": 2
}
