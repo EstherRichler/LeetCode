{
 "cells": [
  {
   "cell_type": "markdown",
   "metadata": {},
   "source": [
    "1. Two Sum\n",
    "\n",
    "Given an array of integers, return indices of the two numbers such that they add up to a specific target.\n",
    "\n",
    "You may assume that each input would have exactly one solution, and you may not use the same element twice.\n",
    "\n",
    "Example:\n",
    "\n",
    "Given nums = [2, 7, 11, 15], target = 9,\n",
    "\n",
    "Because nums[0] + nums[1] = 2 + 7 = 9,\n",
    "return [0, 1]."
   ]
  },
  {
   "cell_type": "code",
   "execution_count": null,
   "metadata": {},
   "outputs": [],
   "source": [
    "# my solution\n",
    "\n",
    "class Solution(object):\n",
    "    def twoSum(self, nums, target):\n",
    "        \"\"\"\n",
    "        :type nums: List[int]\n",
    "        :type target: int\n",
    "        :rtype: List[int]\n",
    "        \"\"\"\n",
    "        \n",
    "        \n",
    "        for i in range(len(nums)-1):\n",
    "            \n",
    "            j = i + 1\n",
    "            \n",
    "            for k in range(j,len(nums)):\n",
    "                \n",
    "                x = nums[i] + nums[k]\n",
    "                \n",
    "                if target == x:\n",
    "                    return [i,k]"
   ]
  },
  {
   "cell_type": "markdown",
   "metadata": {},
   "source": [
    "Runtime: 5432 ms, faster than 12.51% of Python online submissions for Two Sum.\n",
    "\n",
    "Memory Usage: 13.5 MB, less than 87.98% of Python online submissions for Two Sum.\n",
    "\n",
    "*Note: using a hash table would speed it up, but at the expense of memory*"
   ]
  },
  {
   "cell_type": "code",
   "execution_count": null,
   "metadata": {},
   "outputs": [],
   "source": [
    "# nice solution from user fmartigarro\n",
    "\n",
    "class Solution:\n",
    "    def twoSum(self, nums: List[int], target: int) -> List[int]:\n",
    "        \n",
    "        hashmap = {}\n",
    "        \n",
    "        for index, num in enumerate(nums):\n",
    "            \n",
    "            if num in hashmap:\n",
    "                return [hashmap[num], index]\n",
    "        \n",
    "            hashmap[target - num] = index"
   ]
  },
  {
   "cell_type": "code",
   "execution_count": null,
   "metadata": {},
   "outputs": [],
   "source": [
    "# I've rewritten the above solution in away that seems more readable to me\n",
    "\n",
    "class Solution(object):\n",
    "    def twoSum(self, nums, target):\n",
    "        \"\"\"\n",
    "        :type nums: List[int]\n",
    "        :type target: int\n",
    "        :rtype: List[int]\n",
    "        \"\"\"\n",
    "        \n",
    "        hashmap = {}\n",
    "        \n",
    "        for i,num in enumerate(nums):\n",
    "            \n",
    "            complement = target - num\n",
    "            \n",
    "            if complement in hashmap:\n",
    "                return [hashmap[complement], i]\n",
    "            \n",
    "            hashmap[num] = i"
   ]
  },
  {
   "cell_type": "markdown",
   "metadata": {},
   "source": [
    "Runtime: 32 ms, faster than 95.56% of Python online submissions for Two Sum.\n",
    "\n",
    "Memory Usage: 14 MB, less than 47.68% of Python online submissions for Two Sum."
   ]
  },
  {
   "cell_type": "code",
   "execution_count": null,
   "metadata": {},
   "outputs": [],
   "source": []
  }
 ],
 "metadata": {
  "kernelspec": {
   "display_name": "Python 3",
   "language": "python",
   "name": "python3"
  },
  "language_info": {
   "codemirror_mode": {
    "name": "ipython",
    "version": 3
   },
   "file_extension": ".py",
   "mimetype": "text/x-python",
   "name": "python",
   "nbconvert_exporter": "python",
   "pygments_lexer": "ipython3",
   "version": "3.7.4"
  }
 },
 "nbformat": 4,
 "nbformat_minor": 2
}
